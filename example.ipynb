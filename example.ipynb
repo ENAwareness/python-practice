{
 "cells": [
  {
   "cell_type": "code",
   "execution_count": null,
   "id": "0",
   "metadata": {},
   "outputs": [],
   "source": [
    "from google import genai\n",
    "\n",
    "client = genai.Client(\n",
    "    vertexai=True,\n",
    "    project='your-project-id',\n",
    "    location='us-central1'\n",
    ")\n",
    "\n",
    "response = client.models.generate_content(\n",
    "    model='gemini-2.5-pro',\n",
    "    contents='你的问题'\n",
    ")"
   ]
  },
  {
   "cell_type": "code",
   "execution_count": null,
   "id": "1",
   "metadata": {},
   "outputs": [],
   "source": [
    "name = input(\"What's your name?\")\n",
    "print('Hello',name)"
   ]
  },
  {
   "cell_type": "code",
   "execution_count": null,
   "id": "2",
   "metadata": {},
   "outputs": [],
   "source": [
    "def hello():\n",
    "  print(\"Hello World!\")\n",
    "\n",
    "hello()  "
   ]
  },
  {
   "cell_type": "code",
   "execution_count": null,
   "id": "3",
   "metadata": {},
   "outputs": [],
   "source": [
    "def calculate_num(a, b):\n",
    "  return a + b\n",
    "\n",
    "print(calculate_num(3, 4))\n"
   ]
  },
  {
   "cell_type": "code",
   "execution_count": null,
   "id": "4",
   "metadata": {},
   "outputs": [],
   "source": [
    "def say_hello():\n",
    "   name = input('What is your name? ')\n",
    "   return 'Hello ' + name\n",
    "\n",
    "def uppercase_decorator(func):\n",
    "   def wrapper():\n",
    "       original_func = func()\n",
    "       modified_func = original_func.upper()\n",
    "       return modified_func\n",
    "   return wrapper\n",
    "\n",
    "say_hello_res = uppercase_decorator(say_hello)\n",
    "\n",
    "print(say_hello_res())"
   ]
  },
  {
   "cell_type": "code",
   "execution_count": null,
   "id": "5",
   "metadata": {},
   "outputs": [],
   "source": [
    "def my_func():\n",
    "    my_var = 10\n",
    "    print(my_var)\n"
   ]
  },
  {
   "cell_type": "code",
   "execution_count": null,
   "id": "6",
   "metadata": {},
   "outputs": [],
   "source": [
    "def outer_func():\n",
    "  msg = 'Hello, there!'\n",
    "  res = ''\n",
    "  print(msg)\n",
    "\n",
    "  def inner_func():\n",
    "    nonlocal res\n",
    "    res = 'How are you.'\n",
    "    print(res)\n",
    "\n",
    "  inner_func()\n",
    "\n",
    "outer_func()\n"
   ]
  },
  {
   "cell_type": "code",
   "execution_count": null,
   "id": "7",
   "metadata": {},
   "outputs": [],
   "source": [
    "age = 3\n",
    "\n",
    "if age >= 35:\n",
    "  print(\"You're too old!\")\n",
    "elif age >= 34:\n",
    "  print(\"You're a beautiful mother!\")\n",
    "else:\n",
    "  print(\"You're my son!\")  "
   ]
  },
  {
   "cell_type": "code",
   "execution_count": null,
   "id": "8",
   "metadata": {},
   "outputs": [],
   "source": [
    "is_citizen = False\n",
    "age = 0\n",
    "\n",
    "print(age and is_citizen) # 25"
   ]
  },
  {
   "cell_type": "code",
   "execution_count": null,
   "id": "9",
   "metadata": {},
   "outputs": [],
   "source": [
    "def caesar(text, shift):\n",
    "  alphabet = 'abcdefghijklmnopqrstuvwxyz'\n",
    "  shifted_alphabet = alphabet[shift:] + alphabet[:shift]\n",
    "  translation_table = str.maketrans(alphabet + alphabet.upper(), shifted_alphabet + shifted_alphabet.upper())\n",
    "  encrypted_text = text.translate(translation_table)\n",
    "  return encrypted_text\n",
    "  "
   ]
  }
 ],
 "metadata": {
  "kernelspec": {
   "display_name": "Python 3",
   "language": "python",
   "name": "python3"
  },
  "language_info": {
   "codemirror_mode": {
    "name": "ipython",
    "version": 3
   },
   "file_extension": ".py",
   "mimetype": "text/x-python",
   "name": "python",
   "nbconvert_exporter": "python",
   "pygments_lexer": "ipython3",
   "version": "3.10.12"
  }
 },
 "nbformat": 4,
 "nbformat_minor": 5
}
