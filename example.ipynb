{
 "cells": [
  {
   "cell_type": "code",
   "execution_count": null,
   "id": "b56c8771",
   "metadata": {},
   "outputs": [],
   "source": [
    "from google import genai\n",
    "\n",
    "client = genai.Client(\n",
    "    vertexai=True,\n",
    "    project='your-project-id',\n",
    "    location='us-central1'\n",
    ")\n",
    "\n",
    "response = client.models.generate_content(\n",
    "    model='gemini-2.5-pro',\n",
    "    contents='你的问题'\n",
    ")"
   ]
  }
 ],
 "metadata": {
  "kernelspec": {
   "display_name": "Python (project)",
   "language": "python",
   "name": "project"
  },
  "language_info": {
   "name": "python",
   "version": "3.10.12"
  }
 },
 "nbformat": 4,
 "nbformat_minor": 5
}
