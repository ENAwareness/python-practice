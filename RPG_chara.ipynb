{
 "cells": [
  {
   "cell_type": "code",
   "execution_count": null,
   "id": "0",
   "metadata": {},
   "outputs": [],
   "source": [
    "full_dot = '●'\n",
    "empty_dot = '○'\n",
    "def create_character(name, stats):\n",
    "    if not isinstance(name, str):\n",
    "        return \"The character name should be a string\"\n",
    "    if len(name) > 10:\n",
    "        return \"The character name is too long\"\n",
    "    if \" \" in name:\n",
    "        return \"The character name should not contain spaces\"\n",
    "   "
   ]
  }
 ],
 "metadata": {
  "language_info": {
   "name": "python"
  }
 },
 "nbformat": 4,
 "nbformat_minor": 5
}
