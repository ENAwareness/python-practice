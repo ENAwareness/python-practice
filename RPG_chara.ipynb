{
 "cells": [
  {
   "cell_type": "code",
   "execution_count": null,
   "id": "0",
   "metadata": {},
   "outputs": [],
   "source": [
    "full_dot = '●'\n",
    "empty_dot = '○'\n",
    "def create_character(name, strength, intelligence, charisma):\n",
    "    if not isinstance(name, str):\n",
    "        return \"The character name should be a string\"\n",
    "    if len(name) > 10:\n",
    "        return \"The character name is too long\"\n",
    "    if \" \" in name:\n",
    "        return \"The character name should not contain spaces\"\n",
    "    if not all(isinstance(stats, int) for stats in [strength, intelligence, charisma]):\n",
    "        return \"All stats should be integers\"\n",
    "    if any(stats < 1 for stats in [strength, intelligence, charisma]):\n",
    "        return \"All stats should be no less than 1\"\n",
    "    if any(stats > 4 for stats in [strength, intelligence, charisma]):\n",
    "        return \"All stats should be no more than 4\"\n",
    "    if not (strength + intelligence + charisma == 7):\n",
    "        return \"The character should start with 7 points\"\n",
    "    return (name + \"\\n\" + \n",
    "            \"STR: \" + strength * full_dot + empty_dot * (10 - strength) + \"\\n\"\n",
    "            \"INT: \" + intelligence * full_dot + empty_dot * (10 - intelligence) + \"\\n\"\n",
    "            \"CHA: \" + charisma * full_dot + empty_dot * (10 - charisma)\n",
    "            )\n",
    "\n",
    "create_character(\"yann\", 4, 2, 1)    "
   ]
  }
 ],
 "metadata": {
  "kernelspec": {
   "display_name": "Python 3",
   "language": "python",
   "name": "python3"
  },
  "language_info": {
   "codemirror_mode": {
    "name": "ipython",
    "version": 3
   },
   "file_extension": ".py",
   "mimetype": "text/x-python",
   "name": "python",
   "nbconvert_exporter": "python",
   "pygments_lexer": "ipython3",
   "version": "3.10.12"
  }
 },
 "nbformat": 4,
 "nbformat_minor": 5
}
